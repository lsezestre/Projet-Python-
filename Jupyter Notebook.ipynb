{
 "cells": [
  {
   "cell_type": "markdown",
   "id": "cbb7f0d7-0ec3-4cb6-9d73-0afd2fdca571",
   "metadata": {
    "editable": true,
    "slideshow": {
     "slide_type": ""
    },
    "tags": []
   },
   "source": [
    "# 🌞**Évaluation et Prévision des Énergies Renouvelables Variables (ERV)**\n",
    "\n",
    "## 🎯 **Objectifs du Projet**\n",
    "\n",
    "1. **Évaluer la production horaire des installations photovoltaïques** dans les régions de la France métropolitaine en utilisant des données climatiques et des observations des facteurs de capacité.\n",
    "\n",
    "2. **Prédire la production énergétique des ERV à l'avance**, afin de mieux anticiper les variations de puissance et optimiser la gestion du réseau électrique.\n",
    "\n",
    "\n",
    "\n",
    "\n",
    "---"
   ]
  },
  {
   "cell_type": "code",
   "execution_count": 4,
   "id": "767c313b-009c-4c1a-8ff4-85d81d491380",
   "metadata": {},
   "outputs": [
    {
     "name": "stdout",
     "output_type": "stream",
     "text": [
      "Requirement already satisfied: requests in /opt/conda/lib/python3.12/site-packages (2.32.3)\n",
      "Requirement already satisfied: charset_normalizer<4,>=2 in /opt/conda/lib/python3.12/site-packages (from requests) (3.4.0)\n",
      "Requirement already satisfied: idna<4,>=2.5 in /opt/conda/lib/python3.12/site-packages (from requests) (3.10)\n",
      "Requirement already satisfied: urllib3<3,>=1.21.1 in /opt/conda/lib/python3.12/site-packages (from requests) (2.2.3)\n",
      "Requirement already satisfied: certifi>=2017.4.17 in /opt/conda/lib/python3.12/site-packages (from requests) (2024.8.30)\n",
      "Note: you may need to restart the kernel to use updated packages.\n"
     ]
    }
   ],
   "source": [
    "pip install requests"
   ]
  },
  {
   "cell_type": "code",
   "execution_count": 6,
   "id": "dbb8d4c7-a03d-41b0-9357-5cd86dece0c6",
   "metadata": {},
   "outputs": [
    {
     "data": {
      "text/plain": [
       "'production_solaire_2014_2022.csv'"
      ]
     },
     "execution_count": 6,
     "metadata": {},
     "output_type": "execute_result"
    }
   ],
   "source": [
    "import requests\n",
    "import pandas as pd\n",
    "from requests.adapters import HTTPAdapter\n",
    "from requests.packages.urllib3.util.retry import Retry\n",
    "\n",
    "# Liste des URLs pour chaque région\n",
    "urls = {\n",
    "    \"Auvergne-Rhône-Alpes\": \"/api/explore/v2.1/catalog/datasets/production-regionale-mensuelle-filiere/records?select=mois%2Cregion%2Cproduction_solaire&where=mois%3C2022&limit=100&refine=region%3A%22Auvergne-Rh%C3%B4ne-Alpes%22\",\n",
    "    \"Bourgogne-Franche-Comté\": \"/api/explore/v2.1/catalog/datasets/production-regionale-mensuelle-filiere/records?select=mois%2Cregion%2Cproduction_solaire&where=mois%3C2022&limit=100&refine=region%3A%22Bourgogne-Franche-Comt%C3%A9%22\",\n",
    "    \"Bretagne\": \"/api/explore/v2.1/catalog/datasets/production-regionale-mensuelle-filiere/records?select=mois%2Cregion%2Cproduction_solaire&where=mois%3C2022&limit=100&refine=region%3A%22Bretagne%22\",\n",
    "    \"Centre-Val de Loire\": \"/api/explore/v2.1/catalog/datasets/production-regionale-mensuelle-filiere/records?select=mois%2Cregion%2Cproduction_solaire&where=mois%3C2022&limit=100&refine=region%3A%22Centre-Val%20de%20Loire%22\",\n",
    "    \"Corse\": \"/api/explore/v2.1/catalog/datasets/production-regionale-mensuelle-filiere/records?select=mois%2Cregion%2Cproduction_solaire&where=mois%3C2022&limit=100&refine=region%3A%22Corse%22\",\n",
    "    \"Grand Est\": \"/api/explore/v2.1/catalog/datasets/production-regionale-mensuelle-filiere/records?select=mois%2Cregion%2Cproduction_solaire&where=mois%3C2022&limit=100&refine=region%3A%22Grand%20Est%22\",\n",
    "    \"Hauts-de-France\": \"/api/explore/v2.1/catalog/datasets/production-regionale-mensuelle-filiere/records?select=mois%2Cregion%2Cproduction_solaire&where=mois%3C2022&limit=100&refine=region%3A%22Hauts-de-France%22\",\n",
    "    \"Île-de-France\": \"/api/explore/v2.1/catalog/datasets/production-regionale-mensuelle-filiere/records?select=mois%2Cregion%2Cproduction_solaire&where=mois%3C2022&limit=100&refine=region%3A%22%C3%8Ele-de-France%22\",\n",
    "    \"Normandie\": \"/api/explore/v2.1/catalog/datasets/production-regionale-mensuelle-filiere/records?select=mois%2Cregion%2Cproduction_solaire&where=mois%3C2022&limit=100&refine=region%3A%22Normandie%22\",\n",
    "    \"Nouvelle-Aquitaine\": \"/api/explore/v2.1/catalog/datasets/production-regionale-mensuelle-filiere/records?select=mois%2Cregion%2Cproduction_solaire&where=mois%3C2022&limit=100&refine=region%3A%22Nouvelle-Aquitaine%22\",\n",
    "    \"Occitanie\": \"/api/explore/v2.1/catalog/datasets/production-regionale-mensuelle-filiere/records?select=mois%2Cregion%2Cproduction_solaire&where=mois%3C2022&limit=100&refine=region%3A%22Occitanie%22\",\n",
    "    \"Pays de la Loire\": \"/api/explore/v2.1/catalog/datasets/production-regionale-mensuelle-filiere/records?select=mois%2Cregion%2Cproduction_solaire&where=mois%3C2022&limit=100&refine=region%3A%22Pays%20de%20la%20Loire%22\",\n",
    "    \"Provence-Alpes-Côte d'Azur\": \"/api/explore/v2.1/catalog/datasets/production-regionale-mensuelle-filiere/records?select=mois%2Cregion%2Cproduction_solaire&where=mois%3C2022&limit=100&refine=region%3A%22Provence-Alpes-C%C3%B4te%20d'Azur%22\"\n",
    "}\n",
    "\n",
    "# Base URL pour l'API\n",
    "base_url = \"https://odre.opendatasoft.com\"\n",
    "\n",
    "# Configurer le retry pour gérer les échecs temporaires\n",
    "session = requests.Session()\n",
    "retries = Retry(total=5, backoff_factor=1, status_forcelist=[500, 502, 503, 504])\n",
    "session.mount('https://', HTTPAdapter(max_retries=retries))\n",
    "\n",
    "# Liste pour collecter les données de toutes les régions\n",
    "all_data = []\n",
    "\n",
    "# Plage de dates filtrées\n",
    "date_range_start = \"2014-01\"\n",
    "date_range_end = \"2021-12\"\n",
    "\n",
    "for region, endpoint in urls.items():\n",
    "    try:\n",
    "        # Effectuer une requête GET pour chaque région\n",
    "        response = session.get(base_url + endpoint, timeout=30)\n",
    "        response.raise_for_status()  # Vérifier si la requête a réussi\n",
    "\n",
    "        # Charger les données JSON\n",
    "        data = response.json()\n",
    "        results = data.get(\"results\", [])\n",
    "\n",
    "        # Extraire les champs pertinents en filtrant par date\n",
    "        formatted_data = [\n",
    "            {\n",
    "                \"mois\": record.get(\"mois\"),\n",
    "                \"region\": region,\n",
    "                \"production_solaire\": record.get(\"production_solaire\")\n",
    "            }\n",
    "            for record in results\n",
    "            if date_range_start <= record.get(\"mois\", \"\") <= date_range_end\n",
    "        ]\n",
    "\n",
    "        # Ajouter les données de cette région à la liste globale\n",
    "        all_data.extend(formatted_data)\n",
    "\n",
    "    except requests.exceptions.RequestException as e:\n",
    "        print(f\"Erreur lors de la récupération des données pour {region} : {e}\")\n",
    "\n",
    "# Créer un DataFrame pandas avec toutes les données\n",
    "df = pd.DataFrame(all_data)\n",
    "\n",
    "# Réorganiser le format du tableau pour avoir les régions comme colonnes\n",
    "df_pivot = df.pivot(index=\"mois\", columns=\"region\", values=\"production_solaire\").reset_index()\n",
    "df_pivot.columns.name = None  # Supprimer le nom des colonnes multi-index\n",
    "\n",
    "# Exporter les données au format CSV\n",
    "output_path = \"production_solaire_2014_2022.csv\"\n",
    "df_pivot.to_csv(output_path, index=False)\n",
    "\n",
    "output_path  # Chemin du fichier exporté\n"
   ]
  },
  {
   "cell_type": "code",
   "execution_count": null,
   "id": "b93b6a02-0d15-4097-bb75-ef7444c37441",
   "metadata": {},
   "outputs": [],
   "source": []
  }
 ],
 "metadata": {
  "kernelspec": {
   "display_name": "Python 3 (ipykernel)",
   "language": "python",
   "name": "python3"
  },
  "language_info": {
   "codemirror_mode": {
    "name": "ipython",
    "version": 3
   },
   "file_extension": ".py",
   "mimetype": "text/x-python",
   "name": "python",
   "nbconvert_exporter": "python",
   "pygments_lexer": "ipython3",
   "version": "3.12.7"
  }
 },
 "nbformat": 4,
 "nbformat_minor": 5
}
